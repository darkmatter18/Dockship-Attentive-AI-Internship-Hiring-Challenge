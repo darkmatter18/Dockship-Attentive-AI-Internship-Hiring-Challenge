{
 "cells": [
  {
   "cell_type": "markdown",
   "metadata": {},
   "source": [
    "# Analize the dataset (Normalize values and Height-weight)\n",
    "\n",
    "---\n",
    "\n",
    "This notebook contains the codebase for the analysis of the Dataset. It uses `torch` and `torchvision` compute the analysis and `matplotlib` to demostrate the results.\n",
    "\n",
    "This notebook has analysis several things, like\n",
    "\n",
    "1. The Normalize values of the dataset i.e. the `Mean` and `STD`\n",
    "2. The heights and weights of the images in the dataset"
   ]
  },
  {
   "cell_type": "code",
   "execution_count": 11,
   "metadata": {},
   "outputs": [],
   "source": [
    "import statistics\n",
    "import numpy as np\n",
    "\n",
    "import torch\n",
    "from torchvision import transforms\n",
    "from torchvision.datasets import ImageFolder\n",
    "\n",
    "import matplotlib.pyplot as plt"
   ]
  },
  {
   "cell_type": "markdown",
   "metadata": {},
   "source": [
    "---\n",
    "\n",
    "Using the `ImageFolder` function from `torchvision` to load the dataset with `ToTensor` transform, so that each image will convert into `Tensor` and will help to compute easily"
   ]
  },
  {
   "cell_type": "code",
   "execution_count": 2,
   "metadata": {},
   "outputs": [],
   "source": [
    "f = ImageFolder(root=\"./dataset/\", transform=transforms.Compose([transforms.ToTensor()]))"
   ]
  },
  {
   "cell_type": "markdown",
   "metadata": {},
   "source": [
    "---\n",
    "\n",
    "Computing the `Normalization` values i.e. the overall mean and std by iterating over the dataset.\n",
    "\n",
    "To get the `mean` and `std` values,\n",
    "\n",
    "1. It is computing the `mean` and `std` for a single image. \n",
    "2. The computation is taking place by dimention-wise, i.e. For `Red, Greeen and Blue channels`, it is computing separate mean and std.\n",
    "3. In a zero tensor of dimention 3 (1 for R, 1 for G, 1 for B), it is adding up the mean and std.\n",
    "\n",
    "The code base also appending the image height and image weight in 2 empty arrays for future analysis."
   ]
  },
  {
   "cell_type": "code",
   "execution_count": 3,
   "metadata": {},
   "outputs": [],
   "source": [
    "mean = torch.zeros(3)\n",
    "std = torch.zeros(3)\n",
    "\n",
    "heights = []\n",
    "widths = []\n",
    "\n",
    "for image, _ in f:\n",
    "    mean += torch.mean(image, (1,2))\n",
    "    std += torch.std(image, (1,2))\n",
    "    _, h, w = image.size()\n",
    "    heights.append(h)\n",
    "    widths.append(w)"
   ]
  },
  {
   "cell_type": "markdown",
   "metadata": {},
   "source": [
    "---\n",
    "\n",
    "Now dividing the summed mean and std values to get the overall Mean and STD. \n",
    "\n",
    "`This values of Mean and STD will be used for the normalization`"
   ]
  },
  {
   "cell_type": "code",
   "execution_count": 4,
   "metadata": {},
   "outputs": [
    {
     "name": "stdout",
     "output_type": "stream",
     "text": [
      "Mean: tensor([0.4728, 0.4762, 0.4692])\n",
      "STD: tensor([0.2558, 0.2532, 0.2457])\n"
     ]
    }
   ],
   "source": [
    "print(f\"Mean: {mean/len(f)}\")\n",
    "print(f\"STD: {std/len(f)}\")"
   ]
  },
  {
   "cell_type": "markdown",
   "metadata": {},
   "source": [
    "***So, from the above analysis, I come to these conclusion, that***\n",
    "\n",
    "1. Mean of the Whole dataset (train and test) is `[0.4728, 0.4762, 0.4692]`\n",
    "2. Standard Deviation of the Whole dataset (train and test) is `[0.2558, 0.2532, 0.2457]`\n",
    "\n",
    "---\n",
    "\n",
    "### Now, it's time to analize the heights and widths\n",
    "\n",
    "This is a histogram graph for heights"
   ]
  },
  {
   "cell_type": "code",
   "execution_count": 5,
   "metadata": {},
   "outputs": [
    {
     "data": {
      "text/plain": [
       "(array([2725., 2055., 1323.,  895.,  583.,  431.,  334.,  252.,  160.,\n",
       "         138.]),\n",
       " array([   0.,  200.,  400.,  600.,  800., 1000., 1200., 1400., 1600.,\n",
       "        1800., 2000.]),\n",
       " [<matplotlib.patches.Polygon at 0x7f681edc6d90>])"
      ]
     },
     "execution_count": 5,
     "metadata": {},
     "output_type": "execute_result"
    },
    {
     "data": {
      "image/png": "[encoded data removed]",
      "text/plain": [
       "<Figure size 1440x360 with 1 Axes>"
      ]
     },
     "metadata": {
      "needs_background": "light"
     },
     "output_type": "display_data"
    }
   ],
   "source": [
    "plt.figure(figsize=(20,5))\n",
    "plt.grid()\n",
    "plt.hist(heights, range=(0,2000), histtype='stepfilled')"
   ]
  },
  {
   "cell_type": "markdown",
   "metadata": {},
   "source": [
    "This is a histogram graph for widths"
   ]
  },
  {
   "cell_type": "code",
   "execution_count": 6,
   "metadata": {},
   "outputs": [
    {
     "data": {
      "text/plain": [
       "(array([2132., 1821., 1230., 1024.,  783.,  589.,  379.,  296.,  254.,\n",
       "         167.]),\n",
       " array([   0.,  200.,  400.,  600.,  800., 1000., 1200., 1400., 1600.,\n",
       "        1800., 2000.]),\n",
       " [<matplotlib.patches.Polygon at 0x7f681ed4ec50>])"
      ]
     },
     "execution_count": 6,
     "metadata": {},
     "output_type": "execute_result"
    },
    {
     "data": {
      "image/png": "[encoded data removed]",
      "text/plain": [
       "<Figure size 1440x360 with 1 Axes>"
      ]
     },
     "metadata": {
      "needs_background": "light"
     },
     "output_type": "display_data"
    }
   ],
   "source": [
    "plt.figure(figsize=(20,5))\n",
    "plt.grid()\n",
    "plt.hist(widths, range=(0,2000), histtype='stepfilled')"
   ]
  },
  {
   "cell_type": "code",
   "execution_count": 15,
   "metadata": {},
   "outputs": [
    {
     "name": "stdout",
     "output_type": "stream",
     "text": [
      "Mean of the heights: 383.0 \n",
      "Mean of the widths: 496.0\n"
     ]
    }
   ],
   "source": [
    "print(f\"Mean of the heights: {statistics.median(heights)} \\nMean of the widths: {statistics.median(widths)}\")"
   ]
  },
  {
   "cell_type": "markdown",
   "metadata": {},
   "source": [
    "As the mejority of the images has the heightd and widths around 200 and as the imagenet models (which I used as transfer learning) is optimized for height and widths of `224` images. So I decided to keep \n",
    "\n",
    "- The height as `224` \n",
    "- The Width as `224`"
   ]
  },
  {
   "cell_type": "code",
   "execution_count": null,
   "metadata": {},
   "outputs": [],
   "source": []
  }
 ],
 "metadata": {
  "environment": {
   "name": "pytorch-gpu.1-7.mnightly-2021-01-20-debian-10-test",
   "type": "gcloud",
   "uri": "gcr.io/deeplearning-platform-release/pytorch-gpu.1-7:mnightly-2021-01-20-debian-10-test"
  },
  "kernelspec": {
   "display_name": "Python 3",
   "language": "python",
   "name": "python3"
  },
  "language_info": {
   "codemirror_mode": {
    "name": "ipython",
    "version": 3
   },
   "file_extension": ".py",
   "mimetype": "text/x-python",
   "name": "python",
   "nbconvert_exporter": "python",
   "pygments_lexer": "ipython3",
   "version": "3.8.5"
  }
 },
 "nbformat": 4,
 "nbformat_minor": 4
}
